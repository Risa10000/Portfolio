{
 "cells": [
  {
   "cell_type": "markdown",
   "id": "0c6615b3-6e2a-4c59-86c1-35914fe8c5dd",
   "metadata": {},
   "source": [
    "This file is for checking preview in local readme.md file."
   ]
  },
  {
   "cell_type": "code",
   "execution_count": 28,
   "id": "63a001ea-1855-4b47-a7b7-3394be346a09",
   "metadata": {},
   "outputs": [
    {
     "data": {
      "text/markdown": [
       "# Turnover analysis and prediction model project\n",
       "\n",
       "### Project details\n",
       "\n",
       "- Scenario\n",
       "    - The HR department of consulting company A aims to improve employee turnover rates.\n",
       "- Project Goal\n",
       "    - Providing data-driving suggestions by:\n",
       "        - Identifying key factors driving employee turnover. \n",
       "        - building a predictive model determining whether an employee will leave the company.\n",
       "- Project Execution\n",
       "    - Following the PACE strategy, consisting of Plan, Analyze, Construct, and Execute phases.\n",
       "- Analytical Approach:\n",
       "    - Statistical analysis\n",
       "    - Building three predictive models:\n",
       "        - Logistic Regression\n",
       "        - Random Forest with GridSearch\n",
       "        - XGBoost with GridSearch\n",
       "            - in this case, the Random Forest model scored the highest performance\n",
       "              \n",
       "### Insights/Next steps\n",
       "\n",
       "- Employees leaving the company fall into two categories.\n",
       "- One group spent a lot of time working on multiple projects. Despite receiving positive evaluations, they were not promoted and satisfaction levels were lower.\n",
       "    - Losing such hardworking employees, who deliver great work and receive high evaluations, is a big setback for the company.\n",
       "    - Recommendations to retain these valuable employees: \n",
       "        - Monitor and regulate their working hours and project load to prevent overexertion.\n",
       "        - Implement incentives or rewards for high-performing employees.\n",
       "- The second group comprises individuals with shorter working hours and lower performance evaluations.\n",
       "    - they could need help staying motivated or finishing tasks. HR or managers could provide consultations to address their concerns.\n",
       "- There is no difference in the turnover rates between departments. It reflects the culture and policies of the company. Addressing this at the company level presents a significant opportunity for improvement, particularly focusing on employees who have worked for 3 to 6 years, as the length of service is also a turnover factor.\n",
       "\n",
       "- The results of statistical analysis and Random model align. The RF model predicts a 95% F1 score, demonstrating its effectiveness in aiding the HR process.\n",
       "![cm](https://github.com/risa-001/portfolio/assets/148436136/f411582b-c812-4582-856a-106cffe9cf8f)\n",
       "\n",
       "\n",
       "### Main coding file\n",
       "\n",
       "[jupyter notebook](../Prediction_of_turnover.ipynb)\n",
       "\n",
       "\n",
       "Originally a capstone project from the Google Advanced Data Analytics Professional Certificate program, this is Risa Shimowada's portfolio project.\n",
       "\n",
       "[Google Advanced Data Analytics Professional Certificate program](https://www.coursera.org/professional-certificates/google-advanced-data-analytics?utm_medium=sem&utm_source=gg&utm_campaign=B2C_EMEA__coursera_FTCOF_career-academy_pmax-multiple-audiences-country-multi&campaignid=20858198824&adgroupid=&device=c&keyword=&matchtype=&network=x&devicemodel=&adposition=&creativeid=&hide_mobile_promo&gclid=Cj0KCQiAkKqsBhC3ARIsAEEjuJg0i1r3Auo6PgTjurVDXqunwTCtysfDfCEp7MwhFeo8xQ0z4w-EZlUaAjqXEALw_wcB)\n",
       "\n",
       "\n",
       "\n",
       "\n",
       "\n",
       "\n"
      ],
      "text/plain": [
       "<IPython.core.display.Markdown object>"
      ]
     },
     "metadata": {},
     "output_type": "display_data"
    }
   ],
   "source": [
    "from IPython.display import Markdown, display\n",
    "\n",
    "with open('README.md', 'r') as f:\n",
    "    content = f.read()\n",
    "\n",
    "display(Markdown(content))"
   ]
  },
  {
   "cell_type": "code",
   "execution_count": null,
   "id": "b7fc3f15-0eb1-47bf-bded-cb2661b8b3e9",
   "metadata": {},
   "outputs": [],
   "source": []
  }
 ],
 "metadata": {
  "kernelspec": {
   "display_name": "Python 3 (ipykernel)",
   "language": "python",
   "name": "python3"
  },
  "language_info": {
   "codemirror_mode": {
    "name": "ipython",
    "version": 3
   },
   "file_extension": ".py",
   "mimetype": "text/x-python",
   "name": "python",
   "nbconvert_exporter": "python",
   "pygments_lexer": "ipython3",
   "version": "3.11.6"
  }
 },
 "nbformat": 4,
 "nbformat_minor": 5
}
